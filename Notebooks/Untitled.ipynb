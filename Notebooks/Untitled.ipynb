{
 "cells": [
  {
   "cell_type": "markdown",
   "metadata": {},
   "source": [
    "Our project is focused on predicting the consumption of a commercial building in Milan !"
   ]
  },
  {
   "cell_type": "code",
   "execution_count": 1,
   "metadata": {
    "collapsed": true
   },
   "outputs": [],
   "source": [
    "import numpy as np\n",
    "import pandas as pd\n",
    "import matplotlib.pyplot as plt"
   ]
  },
  {
   "cell_type": "markdown",
   "metadata": {},
   "source": [
    "LEt me first give the directiosn to data folder"
   ]
  },
  {
   "cell_type": "code",
   "execution_count": 2,
   "metadata": {
    "collapsed": true
   },
   "outputs": [],
   "source": [
    "DataFolderPath = \"C:/Users/behzad/Dropbox/_2_Teaching Activities/_0_EETBS- On-going/git_fork_clone/Data-driven_Building_simulation_Polimi_EETBS/Data\"\n",
    "ConsumptionFileName = \"consumption_5545.csv\"\n",
    "ConsumptionFilePath = DataFolderPath+\"/\"+ConsumptionFileName "
   ]
  },
  {
   "cell_type": "markdown",
   "metadata": {},
   "source": [
    "So now Let me show you how my data looks"
   ]
  },
  {
   "cell_type": "code",
   "execution_count": 4,
   "metadata": {
    "collapsed": false
   },
   "outputs": [
    {
     "data": {
      "text/html": [
       "<div>\n",
       "<table border=\"1\" class=\"dataframe\">\n",
       "  <thead>\n",
       "    <tr style=\"text-align: right;\">\n",
       "      <th></th>\n",
       "      <th>air conditioner_5545</th>\n",
       "    </tr>\n",
       "  </thead>\n",
       "  <tbody>\n",
       "    <tr>\n",
       "      <th>2014-07-01 00:00:00</th>\n",
       "      <td>720.750000</td>\n",
       "    </tr>\n",
       "    <tr>\n",
       "      <th>2014-07-01 01:00:00</th>\n",
       "      <td>533.666667</td>\n",
       "    </tr>\n",
       "    <tr>\n",
       "      <th>2014-07-01 02:00:00</th>\n",
       "      <td>492.800000</td>\n",
       "    </tr>\n",
       "    <tr>\n",
       "      <th>2014-07-01 03:00:00</th>\n",
       "      <td>220.266667</td>\n",
       "    </tr>\n",
       "    <tr>\n",
       "      <th>2014-07-01 04:00:00</th>\n",
       "      <td>138.483333</td>\n",
       "    </tr>\n",
       "  </tbody>\n",
       "</table>\n",
       "</div>"
      ],
      "text/plain": [
       "                     air conditioner_5545\n",
       "2014-07-01 00:00:00            720.750000\n",
       "2014-07-01 01:00:00            533.666667\n",
       "2014-07-01 02:00:00            492.800000\n",
       "2014-07-01 03:00:00            220.266667\n",
       "2014-07-01 04:00:00            138.483333"
      ]
     },
     "execution_count": 4,
     "metadata": {},
     "output_type": "execute_result"
    }
   ],
   "source": [
    "ConsumptionFileName = \"consumption_5545.csv\"\n",
    "ConsumptionFilePath= DataFolderPath+\"/\"+ConsumptionFileName\n",
    "DF_consumption = pd.read_csv(ConsumptionFilePath,sep=\",\",index_col=0)\n",
    "previousIndex= DF_consumption.index\n",
    "NewparsedIndex = pd.to_datetime(previousIndex)\n",
    "DF_consumption.index= NewparsedIndex\n",
    "DF_consumption.head(24)\n",
    "DF_JulyfirstTillthird = DF_consumption[\"2014-07-01 00:00:00\":\"2014-07-03 23:00:00\"]\n",
    "DF_JulyfirstTillthird.head(5)"
   ]
  },
  {
   "cell_type": "markdown",
   "metadata": {},
   "source": [
    "LEt me give you more information about my data"
   ]
  },
  {
   "cell_type": "code",
   "execution_count": 5,
   "metadata": {
    "collapsed": false
   },
   "outputs": [
    {
     "data": {
      "text/html": [
       "<div>\n",
       "<table border=\"1\" class=\"dataframe\">\n",
       "  <thead>\n",
       "    <tr style=\"text-align: right;\">\n",
       "      <th></th>\n",
       "      <th>air conditioner_5545</th>\n",
       "    </tr>\n",
       "  </thead>\n",
       "  <tbody>\n",
       "    <tr>\n",
       "      <th>count</th>\n",
       "      <td>72.000000</td>\n",
       "    </tr>\n",
       "    <tr>\n",
       "      <th>mean</th>\n",
       "      <td>853.558102</td>\n",
       "    </tr>\n",
       "    <tr>\n",
       "      <th>std</th>\n",
       "      <td>911.028173</td>\n",
       "    </tr>\n",
       "    <tr>\n",
       "      <th>min</th>\n",
       "      <td>0.000000</td>\n",
       "    </tr>\n",
       "    <tr>\n",
       "      <th>25%</th>\n",
       "      <td>0.000000</td>\n",
       "    </tr>\n",
       "    <tr>\n",
       "      <th>50%</th>\n",
       "      <td>525.991667</td>\n",
       "    </tr>\n",
       "    <tr>\n",
       "      <th>75%</th>\n",
       "      <td>1542.450000</td>\n",
       "    </tr>\n",
       "    <tr>\n",
       "      <th>max</th>\n",
       "      <td>2667.400000</td>\n",
       "    </tr>\n",
       "  </tbody>\n",
       "</table>\n",
       "</div>"
      ],
      "text/plain": [
       "       air conditioner_5545\n",
       "count             72.000000\n",
       "mean             853.558102\n",
       "std              911.028173\n",
       "min                0.000000\n",
       "25%                0.000000\n",
       "50%              525.991667\n",
       "75%             1542.450000\n",
       "max             2667.400000"
      ]
     },
     "execution_count": 5,
     "metadata": {},
     "output_type": "execute_result"
    }
   ],
   "source": [
    "DF_JulyfirstTillthird.describe()"
   ]
  },
  {
   "cell_type": "markdown",
   "metadata": {},
   "source": [
    "LEt me plot it for you !"
   ]
  },
  {
   "cell_type": "code",
   "execution_count": 7,
   "metadata": {
    "collapsed": false
   },
   "outputs": [
    {
     "data": {
      "text/plain": [
       "<matplotlib.figure.Figure at 0xa47dcc0>"
      ]
     },
     "metadata": {},
     "output_type": "display_data"
    },
    {
     "data": {
      "image/png": "[encoded data removed]",
      "text/plain": [
       "<matplotlib.figure.Figure at 0xa4167f0>"
      ]
     },
     "metadata": {},
     "output_type": "display_data"
    }
   ],
   "source": [
    "plt.figure()\n",
    "DF_JulyfirstTillthird.plot()\n",
    "plt.xlabel('Time')\n",
    "plt.ylabel('AC Power [W]')\n",
    "plt.show()\n"
   ]
  },
  {
   "cell_type": "code",
   "execution_count": null,
   "metadata": {
    "collapsed": true
   },
   "outputs": [],
   "source": []
  }
 ],
 "metadata": {
  "kernelspec": {
   "display_name": "Python 2",
   "language": "python",
   "name": "python2"
  },
  "language_info": {
   "codemirror_mode": {
    "name": "ipython",
    "version": 2
   },
   "file_extension": ".py",
   "mimetype": "text/x-python",
   "name": "python",
   "nbconvert_exporter": "python",
   "pygments_lexer": "ipython2",
   "version": "2.7.13"
  }
 },
 "nbformat": 4,
 "nbformat_minor": 2
}
